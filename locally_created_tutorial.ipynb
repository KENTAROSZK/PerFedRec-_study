{
  "cells": [
    {
      "cell_type": "markdown",
      "metadata": {},
      "source": [
        "# PerFedRec++ チュートリアル\n\n",
        "このチュートリアルでは、プライバシーを保護するパーソナライズされた推薦システムである **PerFedRec++** の主要な概念と使い方を学びます。\n\n",
        "## PerFedRec++とは？\n\n",
        "PerFedRec++は、以下の3つの主要な課題に対処するために設計された、新しい連合推薦フレームワークです。\n",
        "1.  **異質性とパーソナライゼーション**: ユーザーごとに異なる興味やデータ分布に対応し、パーソナライズされた推薦を提供します。\n",
        "2.  **モデル性能の劣化**: プライバシー保護技術（差分プライバシーなど）を導入する際のモデル性能の低下を防ぎます。\n",
        "3.  **通信のボトルネック**: 連合学習におけるサーバーとクライアント間の通信コストを削減します。\n\n",
        "このチュートリアルを通じて、PerFedRec++がこれらの課題をどのように解決するのかを理解していきましょう。"
      ]
    },
    {
      "cell_type": "markdown",
      "metadata": {},
      "source": [
        "## プロジェクトの構造\n\n",
        "このリポジトリの主要なファイルとディレクトリは以下の通りです。\n\n",
        "```\n",
        "PerFedRec++/\n",
        "├── conf/                # モデルの設定ファイル\n",
        "│   └── PerFedRec_plus.conf\n",
        "├── data/                # データローダーと前処理\n",
        "├── dataset/             # データセット (例: yelp_test)\n",
        "├── main.py              # メインの実行スクリプト\n",
        "└── model/\n",
        "    └── graph/\n",
        "        └── PerFedRec_plus.py # PerFedRec++モデルの実装\n",
        "```\n\n",
        "- `main.py`: モデルの学習と評価を行うためのエントリーポイントです。\n",
        "- `conf/`: 各モデルのハイパーパラメータなどの設定を管理します。\n",
        "- `model/graph/`: `PerFedRec_plus.py` を含む、GNNベースの推薦モデルの実装が格納されています。\n",
        "- `data/`: データの読み込みや変換を担当するモジュールが含まれます。\n"
      ]
    },
    {
      "cell_type": "markdown",
      "metadata": {},
      "source": [
        "## モデルの実行方法\n\n",
        "`main.py` を使ってモデルを学習・評価します。以下は基本的な実行コマンドの例です。\n\n",
        "ターミナルで以下のコマンドを実行することで、Yelpデータセットを用いてPerFedRec++モデルを学習できます。"
      ]
    },
    {
      "cell_type": "code",
      "execution_count": null,
      "metadata": {},
      "outputs": [],
      "source": [
        "# このセルはJupyter Notebook環境で直接実行するのではなく、\n",
        "# ターミナルで実行するコマンドの例です。\n\n",
        "!python PerFedRec++/main.py --model PerFedRec_plus --dataset yelp"
      ]
    },
    {
      "cell_type": "markdown",
      "metadata": {},
      "source": [
        "### コマンドライン引数\n\n",
        "主要な引数は以下の通りです。\n",
        "- `--model`: 使用するモデル名 (`PerFedRec_plus`など)。\n",
        "- `--dataset`: 使用するデータセット名 (`yelp`, `kindle`, `gowalla`)。\n",
        "- `--emb`: 埋め込みの次元数 (デフォルト: 64)。\n",
        "- `--pretrain_epoch`: 自己教師あり事前学習のエポック数 (デフォルト: 5)。"
      ]
    },
    {
      "cell_type": "markdown",
      "metadata": {},
      "source": [
        "## 必要なライブラリのインストール\n\n",
        "このプロジェクトを実行するには、いくつかのPythonライブラリが必要です。\n",
        "以下のセルを実行して、必要なライブラリをインストールしてください。"
      ]
    },
    {
      "cell_type": "code",
      "execution_count": null,
      "metadata": {},
      "outputs": [],
      "source": [
        "# PyTorch, scikit-learn, numpyなどをインストールします\n",
        "%pip install torch scikit-learn numpy pandas"
      ]
    },
    {
      "cell_type": "markdown",
      "metadata": {},
      "source": [
        "## PerFedRec++の主要な概念\n\n",
        "PerFedRec++は、主に3つのモジュールで構成されています。それぞれのモジュールがどのように連携して、プライバシーを保護しつつ高精度な推薦を実現するのかを見ていきましょう。"
      ]
    },
    {
      "cell_type": "markdown",
      "metadata": {},
      "source": [
        "### 1. 自己教師あり事前学習モジュール (Self-Supervised Pre-Training)\n\n",
        "このモジュールは、本格的な学習の前にモデルを「準備」する役割を担います。目的は、モデルの性能を高め、学習の収束を速めることです。\n\n",
        "**主なアイデア**: 連合学習のプライバシー保護メカニズム（クライアント選択、差分プライバシーなど）を、**データ拡張**として利用します。これにより、モデルはノイズに強く、より本質的なデータ表現を学習できます。\n\n",
        "**仕組み**:\n",
        "1.  **データ拡張**: ノードドロップアウト（一部のユーザーが学習に参加しないこと）やノイズ注入（データに意図的にノイズを加えること）などを用いて、同じデータから複数の異なる「ビュー」を生成します。\n",
        "2.  **対照学習 (Contrastive Learning)**: 生成されたビューを使って学習します。「同じノードから生成されたビュー同士は似ているべき（ポジティブペア）」、「異なるノードのビューは似ていないべき（ネガティブペア）」という原則に基づき、モデルを学習させます。\n\n",
        "**効果**:\n",
        "- **性能向上**: 埋め込み表現がより豊かになり、推薦精度が向上します。\n",
        "- **通信効率**: モデルが良い初期状態から学習を始められるため、収束が速くなり、通信回数が削減されます。"
      ]
    },
    {
      "cell_type": "markdown",
      "metadata": {},
      "source": [
        "### 2. ユーザーサイドのローカル推薦ネットワーク (User-Side Local Recommendation Network)\n\n",
        "各ユーザーのデバイス上で行われる、パーソナライズされたモデルの学習プロセスです。\n\n",
        "**仕組み**:\n",
        "1.  **ローカルGNN**: 各ユーザーは、自身のプライベートな利用履歴（どのアイテムを評価したかなど）を使って、ローカルでグラフニューラルネットワーク（GNN）を学習します。ユーザー自身の埋め込みはデバイス内に留まり、プライバシーが保護されます。\n",
        "2.  **パーソナライズされた予測**: 最終的な推薦は、以下の3つのモデルを組み合わせて生成されます。\n    - **グローバルモデル**: 全ユーザーのデータから学習した一般的なモデル。\n    - **クラスタレベルモデル**: 似たような興味を持つユーザーグループのモデル。\n    - **ローカルモデル**: ユーザー自身のデータで微調整されたモデル。\n\n",
        "これにより、個人の好みを反映しつつ、他のユーザーの知識も活用した、バランスの取れた推薦が可能になります。"
      ]
    },
    {
      "cell_type": "markdown",
      "metadata": {},
      "source": [
        "### 3. サーバーサイドのクラスタリングに基づく連合 (Server-Side Clustering-Based Federation)\n\n",
        "中央サーバーが、ユーザーをグループ化し、効率的に学習を進めるための処理です。\n\n",
        "**仕組み**:\n",
        "1.  **ユーザークラスタリング**: サーバーは、各ユーザーから送られてきた埋め込み表現に基づき、似たようなユーザーをK個のクラスタに分類します（例: K-means法）。\n",
        "2.  **モデルの集約**: サーバーは、全ユーザーから集約した**グローバルモデル**と、各クラスタ内で集約した**クラスタレベルモデル**の2種類を作成します。\n\n",
        "このクラスタリングにより、ユーザーの多様性に対応しつつ、パーソナライズの精度を高めることができます。"
      ]
    },
    {
      "cell_type": "markdown",
      "metadata": {},
      "source": [
        "## コードウォークスルー\n\n",
        "ここでは、PerFedRec++の主要な処理の流れをコードと共に見ていきます。"
      ]
    },
    {
      "cell_type": "markdown",
      "metadata": {},
      "source": [
        "### データの読み込み\n\n",
        "まず、モデルが使用するデータをどのように読み込むかを見てみましょう。\n",
        "データは `PerFedRec++/data/loader.py` と `PerFedRec++/data/data.py` にあるクラスによって処理されます。\n\n",
        "以下は、Yelpデータセットの学習データを読み込み、最初の5行を表示する例です。"
      ]
    },
    {
      "cell_type": "code",
      "execution_count": null,
      "metadata": {},
      "outputs": [],
      "source": [
        "import pandas as pd\n\n",
        "# データセットのパス\n",
        "train_path = 'PerFedRec++/dataset/yelp_test/train.txt'\n\n",
        "# pandasを使ってデータを読み込みます。\n",
        "# ファイルはスペース区切りで、ヘッダーはありません。\n",
        "# 最初の列がユーザーID、残りがそのユーザーが評価したアイテムIDのリストです。\n",
        "try:\n",
        "    # 最初の行だけを読み込んで、構造を確認します\n",
        "    with open(train_path, 'r') as f:\n",
        "        first_line = f.readline().strip()\n",
        "        parts = first_line.split(' ')\n",
        "        user_id = parts[0]\n",
        "        item_ids = parts[1:]\n",
        "        print(f\"ユーザーID: {user_id}\")\n",
        "        print(f\"アイテムIDのリスト（最初の10件）: {item_ids[:10]}\")\n",
        "        print(f\"ユーザー {user_id} は {len(item_ids)} 個のアイテムを評価しました。\")\n\n",
        "except FileNotFoundError:\n",
        "    print(f\"エラー: {train_path} が見つかりません。\")"
      ]
    },
    {
      "cell_type": "markdown",
      "metadata": {},
      "source": [
        "### 学習プロセスの概要\n\n",
        "`main.py` は、設定を読み込み、`SELFRec.py` の `SELFRec` クラスを呼び出すことで学習プロセスを開始します。\n",
        "`SELFRec` クラス内で、モデルの学習ループが実行されます。\n\n",
        "以下に、学習プロセスの主要なステップを擬似コードで示します。"
      ]
    },
    {
      "cell_type": "code",
      "execution_count": null,
      "metadata": {},
      "outputs": [],
      "source": [
        "# このセルは実際の実行コードではなく、学習プロセスの流れを理解するための擬似コードです。\n\n",
        "class SimplifiedSELFRec:\n",
        "    def __init__(self, config):\n",
        "        # 1. 設定とデータに基づいてモデルを初期化\n",
        "        self.recommender = self.initialize_recommender(config)\n",
        "        # 2. 事前学習用の設定（もしあれば）\n",
        "        self.pretrain_recommender = self.initialize_pretrainer(config)\n\n",
        "    def execute(self):\n",
        "        # 3. 自己教師あり事前学習を実行\n",
        "        if self.pretrain_recommender:\n",
        "            print(\"自己教師あり事前学習を開始...\")\n",
        "            self.pretrain_recommender.train()\n",
        "            # 事前学習した重みをメインモデルにコピー\n",
        "            self.copy_pretrained_weights()\n",
        "            print(\"事前学習が完了しました。\")\n\n",
        "        # 4. メインの連合学習を実行\n",
        "        print(\"連合学習を開始...\")\n",
        "        for epoch in range(config.max_epoch):\n",
        "            # a. サーバーがユーザーをクラスタリング\n",
        "            self.recommender.cluster_users()\n",
        "            # b. 各クライアント（ユーザー）がローカルでモデルを更新\n",
        "            self.recommender.client_update()\n",
        "            # c. サーバーが各クライアントからの更新を集約\n",
        "            self.recommender.server_aggregate()\n",
        "            # d. モデルを評価\n",
        "            self.recommender.evaluate()\n",
        "            print(f\"エポック {epoch+1} が完了しました。\")\n",
        "        print(\"連合学習が完了しました。\")\n\n",
        "# 実際のコードでは、これらの処理は `PerFedRec++/main.py` と `PerFedRec++/SELFRec.py` で行われます。\n"
      ]
    },
    {
      "cell_type": "markdown",
      "metadata": {},
      "source": [
        "### モデルアーキテクチャ (`PerFedRec_plus.py`)\n\n",
        "モデルの中核は `PerFedRec++/model/graph/PerFedRec_plus.py` に実装されています。\n",
        "このファイル内の `PerFedRec_plus` クラスが、前述の連合学習プロセスを具体的に実行します。\n\n",
        "特に重要なのは `train()` メソッドで、以下の処理をオーケストレーションします。\n",
        "- **クライアント選択**: 学習に参加するユーザーを選択します。\n",
        "- **ローカル更新**: 各クライアントが自身のデータでモデルを学習します（`client_update`）。\n",
        "- **サーバー集約**: サーバーがクライアントからの更新をまとめ、グローバルモデルとクラスタレベルモデルを更新します（`server_aggregate`）。\n\n",
        "GNNには `LightGCN` のような軽量なモデルがベースとして使われており、効率的なグラフベースの推薦を実現しています。"
      ]
    },
    {
      "cell_type": "markdown",
      "metadata": {},
      "source": [
        "## まとめ\n\n",
        "このチュートリアルでは、PerFedRec++の基本的な概念と使い方を学びました。\n\n",
        "- **自己教師あり事前学習**でモデルの初期状態を改善し、\n",
        "- **クライアントサイドでのパーソナライズ**と**サーバーサイドでのクラスタリング**を組み合わせることで、\n\n",
        "プライバシーを保護しながら、ユーザー一人ひとりに最適化された高精度な推薦を実現しています。\n\n",
        "より詳細な実装については、`PerFedRec++/` ディレクトリ内の各Pythonファイルをご参照ください。"
      ]
    }
  ],
  "metadata": {},
  "nbformat": 4,
  "nbformat_minor": 5
}